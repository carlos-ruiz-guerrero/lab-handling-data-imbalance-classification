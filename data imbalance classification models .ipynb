{
 "cells": [
  {
   "cell_type": "code",
   "execution_count": 48,
   "id": "cdb36e1b",
   "metadata": {},
   "outputs": [],
   "source": [
    "import pandas as pd                   \n",
    "import numpy as np                   \n",
    "import matplotlib.pyplot as plt       \n",
    "import seaborn as sns               \n",
    "import statsmodels.api as sm         \n",
    "from sklearn.model_selection import train_test_split\n",
    "from sklearn.linear_model import LogisticRegression\n",
    "from sklearn.metrics import accuracy_score\n",
    "from sklearn.utils import resample\n",
    "from sklearn.preprocessing import Normalizer\n",
    "from sklearn.preprocessing import StandardScaler\n",
    "\n",
    "from imblearn.over_sampling import SMOTE\n",
    "from imblearn.under_sampling import RandomUnderSampler\n",
    "from imblearn.pipeline import make_pipeline\n",
    "\n",
    "from imblearn.under_sampling import RandomUnderSampler"
   ]
  },
  {
   "cell_type": "markdown",
   "id": "345d970c",
   "metadata": {},
   "source": [
    "# 1. load the dataset"
   ]
  },
  {
   "cell_type": "markdown",
   "id": "da95af7d",
   "metadata": {},
   "source": [
    "1.1 Dataset reading"
   ]
  },
  {
   "cell_type": "code",
   "execution_count": 49,
   "id": "06923bdb",
   "metadata": {},
   "outputs": [
    {
     "data": {
      "text/html": [
       "<div>\n",
       "<style scoped>\n",
       "    .dataframe tbody tr th:only-of-type {\n",
       "        vertical-align: middle;\n",
       "    }\n",
       "\n",
       "    .dataframe tbody tr th {\n",
       "        vertical-align: top;\n",
       "    }\n",
       "\n",
       "    .dataframe thead th {\n",
       "        text-align: right;\n",
       "    }\n",
       "</style>\n",
       "<table border=\"1\" class=\"dataframe\">\n",
       "  <thead>\n",
       "    <tr style=\"text-align: right;\">\n",
       "      <th></th>\n",
       "      <th>gender</th>\n",
       "      <th>SeniorCitizen</th>\n",
       "      <th>Partner</th>\n",
       "      <th>Dependents</th>\n",
       "      <th>tenure</th>\n",
       "      <th>PhoneService</th>\n",
       "      <th>OnlineSecurity</th>\n",
       "      <th>OnlineBackup</th>\n",
       "      <th>DeviceProtection</th>\n",
       "      <th>TechSupport</th>\n",
       "      <th>StreamingTV</th>\n",
       "      <th>StreamingMovies</th>\n",
       "      <th>Contract</th>\n",
       "      <th>MonthlyCharges</th>\n",
       "      <th>TotalCharges</th>\n",
       "      <th>Churn</th>\n",
       "    </tr>\n",
       "  </thead>\n",
       "  <tbody>\n",
       "    <tr>\n",
       "      <th>0</th>\n",
       "      <td>Female</td>\n",
       "      <td>0</td>\n",
       "      <td>Yes</td>\n",
       "      <td>No</td>\n",
       "      <td>1</td>\n",
       "      <td>No</td>\n",
       "      <td>No</td>\n",
       "      <td>Yes</td>\n",
       "      <td>No</td>\n",
       "      <td>No</td>\n",
       "      <td>No</td>\n",
       "      <td>No</td>\n",
       "      <td>Month-to-month</td>\n",
       "      <td>29.85</td>\n",
       "      <td>29.85</td>\n",
       "      <td>No</td>\n",
       "    </tr>\n",
       "    <tr>\n",
       "      <th>1</th>\n",
       "      <td>Male</td>\n",
       "      <td>0</td>\n",
       "      <td>No</td>\n",
       "      <td>No</td>\n",
       "      <td>34</td>\n",
       "      <td>Yes</td>\n",
       "      <td>Yes</td>\n",
       "      <td>No</td>\n",
       "      <td>Yes</td>\n",
       "      <td>No</td>\n",
       "      <td>No</td>\n",
       "      <td>No</td>\n",
       "      <td>One year</td>\n",
       "      <td>56.95</td>\n",
       "      <td>1889.5</td>\n",
       "      <td>No</td>\n",
       "    </tr>\n",
       "    <tr>\n",
       "      <th>2</th>\n",
       "      <td>Male</td>\n",
       "      <td>0</td>\n",
       "      <td>No</td>\n",
       "      <td>No</td>\n",
       "      <td>2</td>\n",
       "      <td>Yes</td>\n",
       "      <td>Yes</td>\n",
       "      <td>Yes</td>\n",
       "      <td>No</td>\n",
       "      <td>No</td>\n",
       "      <td>No</td>\n",
       "      <td>No</td>\n",
       "      <td>Month-to-month</td>\n",
       "      <td>53.85</td>\n",
       "      <td>108.15</td>\n",
       "      <td>Yes</td>\n",
       "    </tr>\n",
       "    <tr>\n",
       "      <th>3</th>\n",
       "      <td>Male</td>\n",
       "      <td>0</td>\n",
       "      <td>No</td>\n",
       "      <td>No</td>\n",
       "      <td>45</td>\n",
       "      <td>No</td>\n",
       "      <td>Yes</td>\n",
       "      <td>No</td>\n",
       "      <td>Yes</td>\n",
       "      <td>Yes</td>\n",
       "      <td>No</td>\n",
       "      <td>No</td>\n",
       "      <td>One year</td>\n",
       "      <td>42.30</td>\n",
       "      <td>1840.75</td>\n",
       "      <td>No</td>\n",
       "    </tr>\n",
       "    <tr>\n",
       "      <th>4</th>\n",
       "      <td>Female</td>\n",
       "      <td>0</td>\n",
       "      <td>No</td>\n",
       "      <td>No</td>\n",
       "      <td>2</td>\n",
       "      <td>Yes</td>\n",
       "      <td>No</td>\n",
       "      <td>No</td>\n",
       "      <td>No</td>\n",
       "      <td>No</td>\n",
       "      <td>No</td>\n",
       "      <td>No</td>\n",
       "      <td>Month-to-month</td>\n",
       "      <td>70.70</td>\n",
       "      <td>151.65</td>\n",
       "      <td>Yes</td>\n",
       "    </tr>\n",
       "  </tbody>\n",
       "</table>\n",
       "</div>"
      ],
      "text/plain": [
       "   gender  SeniorCitizen Partner Dependents  tenure PhoneService  \\\n",
       "0  Female              0     Yes         No       1           No   \n",
       "1    Male              0      No         No      34          Yes   \n",
       "2    Male              0      No         No       2          Yes   \n",
       "3    Male              0      No         No      45           No   \n",
       "4  Female              0      No         No       2          Yes   \n",
       "\n",
       "  OnlineSecurity OnlineBackup DeviceProtection TechSupport StreamingTV  \\\n",
       "0             No          Yes               No          No          No   \n",
       "1            Yes           No              Yes          No          No   \n",
       "2            Yes          Yes               No          No          No   \n",
       "3            Yes           No              Yes         Yes          No   \n",
       "4             No           No               No          No          No   \n",
       "\n",
       "  StreamingMovies        Contract  MonthlyCharges TotalCharges Churn  \n",
       "0              No  Month-to-month           29.85        29.85    No  \n",
       "1              No        One year           56.95       1889.5    No  \n",
       "2              No  Month-to-month           53.85       108.15   Yes  \n",
       "3              No        One year           42.30      1840.75    No  \n",
       "4              No  Month-to-month           70.70       151.65   Yes  "
      ]
     },
     "execution_count": 49,
     "metadata": {},
     "output_type": "execute_result"
    }
   ],
   "source": [
    "churnData = pd.read_csv('Customer-Churn.csv')\n",
    "churnData.head()"
   ]
  },
  {
   "cell_type": "markdown",
   "id": "f89a9a17",
   "metadata": {},
   "source": [
    "1.2. Getting data types "
   ]
  },
  {
   "cell_type": "code",
   "execution_count": 50,
   "id": "bc67754a",
   "metadata": {},
   "outputs": [
    {
     "name": "stdout",
     "output_type": "stream",
     "text": [
      "<class 'pandas.core.frame.DataFrame'>\n",
      "RangeIndex: 7043 entries, 0 to 7042\n",
      "Data columns (total 16 columns):\n",
      " #   Column            Non-Null Count  Dtype  \n",
      "---  ------            --------------  -----  \n",
      " 0   gender            7043 non-null   object \n",
      " 1   SeniorCitizen     7043 non-null   int64  \n",
      " 2   Partner           7043 non-null   object \n",
      " 3   Dependents        7043 non-null   object \n",
      " 4   tenure            7043 non-null   int64  \n",
      " 5   PhoneService      7043 non-null   object \n",
      " 6   OnlineSecurity    7043 non-null   object \n",
      " 7   OnlineBackup      7043 non-null   object \n",
      " 8   DeviceProtection  7043 non-null   object \n",
      " 9   TechSupport       7043 non-null   object \n",
      " 10  StreamingTV       7043 non-null   object \n",
      " 11  StreamingMovies   7043 non-null   object \n",
      " 12  Contract          7043 non-null   object \n",
      " 13  MonthlyCharges    7043 non-null   float64\n",
      " 14  TotalCharges      7043 non-null   object \n",
      " 15  Churn             7043 non-null   object \n",
      "dtypes: float64(1), int64(2), object(13)\n",
      "memory usage: 880.5+ KB\n"
     ]
    }
   ],
   "source": [
    "churnData.info()"
   ]
  },
  {
   "cell_type": "markdown",
   "id": "2663634d",
   "metadata": {},
   "source": []
  },
  {
   "cell_type": "markdown",
   "id": "4349025c",
   "metadata": {},
   "source": [
    "# 2. change 'object' to numerical where required "
   ]
  },
  {
   "cell_type": "markdown",
   "id": "8cd3d870",
   "metadata": {},
   "source": [
    "since 'total charges' is an object-type column, we want to convert it to numerical (float)"
   ]
  },
  {
   "cell_type": "code",
   "execution_count": 51,
   "id": "1c0756b2",
   "metadata": {},
   "outputs": [],
   "source": [
    "churnData['TotalCharges'] = pd.to_numeric(churnData['TotalCharges'], errors='coerce')"
   ]
  },
  {
   "cell_type": "markdown",
   "id": "7280bf92",
   "metadata": {},
   "source": []
  },
  {
   "cell_type": "code",
   "execution_count": 52,
   "id": "542890dd",
   "metadata": {},
   "outputs": [
    {
     "name": "stdout",
     "output_type": "stream",
     "text": [
      "<class 'pandas.core.frame.DataFrame'>\n",
      "RangeIndex: 7043 entries, 0 to 7042\n",
      "Data columns (total 16 columns):\n",
      " #   Column            Non-Null Count  Dtype  \n",
      "---  ------            --------------  -----  \n",
      " 0   gender            7043 non-null   object \n",
      " 1   SeniorCitizen     7043 non-null   int64  \n",
      " 2   Partner           7043 non-null   object \n",
      " 3   Dependents        7043 non-null   object \n",
      " 4   tenure            7043 non-null   int64  \n",
      " 5   PhoneService      7043 non-null   object \n",
      " 6   OnlineSecurity    7043 non-null   object \n",
      " 7   OnlineBackup      7043 non-null   object \n",
      " 8   DeviceProtection  7043 non-null   object \n",
      " 9   TechSupport       7043 non-null   object \n",
      " 10  StreamingTV       7043 non-null   object \n",
      " 11  StreamingMovies   7043 non-null   object \n",
      " 12  Contract          7043 non-null   object \n",
      " 13  MonthlyCharges    7043 non-null   float64\n",
      " 14  TotalCharges      7032 non-null   float64\n",
      " 15  Churn             7043 non-null   object \n",
      "dtypes: float64(2), int64(2), object(12)\n",
      "memory usage: 880.5+ KB\n"
     ]
    }
   ],
   "source": [
    "churnData.info()"
   ]
  },
  {
   "cell_type": "markdown",
   "id": "2b5d7231",
   "metadata": {},
   "source": [
    "we can see now that 'total charges' is a numeric (float 64) data type "
   ]
  },
  {
   "cell_type": "markdown",
   "id": "3d5ffeaa",
   "metadata": {},
   "source": [
    "# 3. Deal with null values "
   ]
  },
  {
   "cell_type": "code",
   "execution_count": 53,
   "id": "a2c5997e",
   "metadata": {},
   "outputs": [
    {
     "name": "stdout",
     "output_type": "stream",
     "text": [
      "gender               0\n",
      "SeniorCitizen        0\n",
      "Partner              0\n",
      "Dependents           0\n",
      "tenure               0\n",
      "PhoneService         0\n",
      "OnlineSecurity       0\n",
      "OnlineBackup         0\n",
      "DeviceProtection     0\n",
      "TechSupport          0\n",
      "StreamingTV          0\n",
      "StreamingMovies      0\n",
      "Contract             0\n",
      "MonthlyCharges       0\n",
      "TotalCharges        11\n",
      "Churn                0\n",
      "dtype: int64\n"
     ]
    }
   ],
   "source": [
    "# check for null values\n",
    "print(churnData.isnull().sum())"
   ]
  },
  {
   "cell_type": "markdown",
   "id": "7f22ccea",
   "metadata": {},
   "source": [
    "we see that there are initially 11 null values in 'TotalCharges' (7032 are non-null)"
   ]
  },
  {
   "cell_type": "code",
   "execution_count": 54,
   "id": "01c19ff6",
   "metadata": {},
   "outputs": [
    {
     "name": "stdout",
     "output_type": "stream",
     "text": [
      "gender              0\n",
      "SeniorCitizen       0\n",
      "Partner             0\n",
      "Dependents          0\n",
      "tenure              0\n",
      "PhoneService        0\n",
      "OnlineSecurity      0\n",
      "OnlineBackup        0\n",
      "DeviceProtection    0\n",
      "TechSupport         0\n",
      "StreamingTV         0\n",
      "StreamingMovies     0\n",
      "Contract            0\n",
      "MonthlyCharges      0\n",
      "TotalCharges        0\n",
      "Churn               0\n",
      "dtype: int64\n"
     ]
    }
   ],
   "source": [
    "# this way we replace null values with cero\n",
    "\n",
    "churnData['TotalCharges'].fillna(0, inplace=True)\n",
    "\n",
    "# check for null values after replacement\n",
    "print(churnData.isnull().sum())"
   ]
  },
  {
   "cell_type": "code",
   "execution_count": 55,
   "id": "214b8cfb",
   "metadata": {},
   "outputs": [],
   "source": [
    "# we see that after replacement there are no 'null values'"
   ]
  },
  {
   "cell_type": "markdown",
   "id": "4dbf9c74",
   "metadata": {},
   "source": [
    "# 4. machine learning "
   ]
  },
  {
   "cell_type": "markdown",
   "id": "97b63795",
   "metadata": {},
   "source": [
    "4.1. normalising"
   ]
  },
  {
   "cell_type": "markdown",
   "id": "870c7943",
   "metadata": {},
   "source": [
    "we scale and normalise the selectec features, 'tenure', 'SeniorCitizen', 'MonthlyCharges', 'TotalCharges'"
   ]
  },
  {
   "cell_type": "code",
   "execution_count": 56,
   "id": "26158a86",
   "metadata": {},
   "outputs": [
    {
     "name": "stdout",
     "output_type": "stream",
     "text": [
      "Normalized Data:\n",
      "     tenure  SeniorCitizen  MonthlyCharges  TotalCharges\n",
      "0  0.023682            0.0        0.706908      0.706908\n",
      "1  0.017983            0.0        0.030122      0.999384\n",
      "2  0.016552            0.0        0.445662      0.895048\n",
      "3  0.024433            0.0        0.022967      0.999438\n",
      "4  0.011952            0.0        0.422512      0.906279\n"
     ]
    }
   ],
   "source": [
    "selected_features = ['tenure', 'SeniorCitizen', 'MonthlyCharges', 'TotalCharges']\n",
    "X = churnData[selected_features]\n",
    "\n",
    "# scale with normalizer\n",
    "normalizer = Normalizer()\n",
    "X_normalized = normalizer.fit_transform(X)\n",
    "\n",
    "# create the normalised dataset \n",
    "churnData_normalized = pd.DataFrame(X_normalized, columns=selected_features)\n",
    "\n",
    "# check for values in the normalised dataset \n",
    "print(\"Normalized Data:\")\n",
    "print(churnData_normalized.head())"
   ]
  },
  {
   "cell_type": "markdown",
   "id": "40863b6e",
   "metadata": {},
   "source": [
    "4.2. scaling"
   ]
  },
  {
   "cell_type": "code",
   "execution_count": 57,
   "id": "58e48596",
   "metadata": {},
   "outputs": [
    {
     "name": "stdout",
     "output_type": "stream",
     "text": [
      "\n",
      "Scaled Data:\n",
      "     tenure  SeniorCitizen  MonthlyCharges  TotalCharges\n",
      "0 -1.277445      -0.439916       -1.160323     -0.992611\n",
      "1  0.066327      -0.439916       -0.259629     -0.172165\n",
      "2 -1.236724      -0.439916       -0.362660     -0.958066\n",
      "3  0.514251      -0.439916       -0.746535     -0.193672\n",
      "4 -1.236724      -0.439916        0.197365     -0.938874\n"
     ]
    }
   ],
   "source": [
    "selected_features = ['tenure', 'SeniorCitizen', 'MonthlyCharges', 'TotalCharges']\n",
    "X = churnData[selected_features]\n",
    "\n",
    "# apply standard scaler \n",
    "scaler = StandardScaler()\n",
    "X_scaled = scaler.fit_transform(X)\n",
    "\n",
    "# create dataset with scaled variables \n",
    "churnData_scaled = pd.DataFrame(X_scaled, columns=selected_features)\n",
    "\n",
    "#check for dataset with scaled variables \n",
    "print(\"\\nScaled Data:\")\n",
    "print(churnData_scaled.head())"
   ]
  },
  {
   "cell_type": "markdown",
   "id": "8b7ce789",
   "metadata": {},
   "source": [
    "4.3. train-test "
   ]
  },
  {
   "cell_type": "code",
   "execution_count": 58,
   "id": "a14ec0b1",
   "metadata": {},
   "outputs": [
    {
     "name": "stdout",
     "output_type": "stream",
     "text": [
      "X_train shape: (5634, 4)\n",
      "y_train shape: (5634,)\n",
      "X_test shape: (1409, 4)\n",
      "y_test shape: (1409,)\n"
     ]
    }
   ],
   "source": [
    "# we create the separate dataframes for the target and predictor variables\n",
    "\n",
    "selected_features = ['tenure', 'SeniorCitizen', 'MonthlyCharges', 'TotalCharges']\n",
    "X = churnData[selected_features]\n",
    "y = churnData['Churn']\n",
    "\n",
    "# scale features with standard scaler \n",
    "scaler = StandardScaler()\n",
    "X_scaled = scaler.fit_transform(X)\n",
    "\n",
    "# split into train and test \n",
    "X_train, X_test, y_train, y_test = train_test_split(X_scaled, y, test_size=0.2, random_state=42)\n",
    "\n",
    "# print train and test shape \n",
    "print(\"X_train shape:\", X_train.shape)\n",
    "print(\"y_train shape:\", y_train.shape)\n",
    "print(\"X_test shape:\", X_test.shape)\n",
    "print(\"y_test shape:\", y_test.shape)"
   ]
  },
  {
   "cell_type": "markdown",
   "id": "31dfa561",
   "metadata": {},
   "source": [
    "4.4. logistic regression and test model accuracy "
   ]
  },
  {
   "cell_type": "code",
   "execution_count": 59,
   "id": "09e03073",
   "metadata": {},
   "outputs": [
    {
     "data": {
      "text/plain": [
       "LogisticRegression()"
      ]
     },
     "execution_count": 59,
     "metadata": {},
     "output_type": "execute_result"
    }
   ],
   "source": [
    "# we create a logistic regression model and fit into the training data \n",
    "\n",
    "logreg = LogisticRegression()\n",
    "logreg.fit(X_train, y_train)"
   ]
  },
  {
   "cell_type": "code",
   "execution_count": 60,
   "id": "12a12355",
   "metadata": {},
   "outputs": [
    {
     "name": "stdout",
     "output_type": "stream",
     "text": [
      "Accuracy: 0.8062455642299503\n"
     ]
    }
   ],
   "source": [
    "# assess the accuracy of the test model \n",
    "\n",
    "y_pred = logreg.predict(X_test)\n",
    "accuracy = accuracy_score(y_test, y_pred)\n",
    "\n",
    "print(\"Accuracy:\", accuracy)"
   ]
  },
  {
   "cell_type": "markdown",
   "id": "c1085bac",
   "metadata": {},
   "source": [
    "Test model is highly accurate from the analysis that we have performed "
   ]
  },
  {
   "cell_type": "markdown",
   "id": "63c18860",
   "metadata": {},
   "source": [
    "# 5. handling imbalanced model "
   ]
  },
  {
   "cell_type": "markdown",
   "id": "f7638c2e",
   "metadata": {},
   "source": [
    "5.1. checking for imbalance"
   ]
  },
  {
   "cell_type": "code",
   "execution_count": 61,
   "id": "93d07e39",
   "metadata": {},
   "outputs": [
    {
     "name": "stdout",
     "output_type": "stream",
     "text": [
      "No     5174\n",
      "Yes    1869\n",
      "Name: Churn, dtype: int64\n"
     ]
    }
   ],
   "source": [
    "# count occurrences of each class ('yes' and 'no')\n",
    "class_counts = churnData['Churn'].value_counts()\n",
    "\n",
    "# print class counts\n",
    "print(class_counts)"
   ]
  },
  {
   "cell_type": "markdown",
   "id": "58234574",
   "metadata": {},
   "source": [
    "From the class counts, we can tell that there is an important imbalance between 'yes' and 'no' in the \"churn\" variable. By applying oversampling to the minority class and undersampling to the majority class we might achieve a more balanced model "
   ]
  },
  {
   "cell_type": "markdown",
   "id": "b249473a",
   "metadata": {},
   "source": [
    "5.2. data resample"
   ]
  },
  {
   "cell_type": "code",
   "execution_count": 62,
   "id": "6b0675ff",
   "metadata": {},
   "outputs": [
    {
     "name": "stdout",
     "output_type": "stream",
     "text": [
      "Accuracy: 0.7430801987224982\n"
     ]
    }
   ],
   "source": [
    "# create SMOTE pipeline for over-sampling \n",
    "pipeline = make_pipeline(\n",
    "    SMOTE(random_state=42),\n",
    "    RandomUnderSampler(random_state=42),\n",
    "    LogisticRegression()\n",
    ")\n",
    "\n",
    "# fit pipeline on the training data\n",
    "pipeline.fit(X_train, y_train)\n",
    "\n",
    "# make predictions on the test set\n",
    "y_pred = pipeline.predict(X_test)\n",
    "\n",
    "# Calculate model accuracy\n",
    "accuracy = accuracy_score(y_test, y_pred)\n",
    "print(\"Accuracy:\", accuracy)"
   ]
  },
  {
   "cell_type": "markdown",
   "id": "2cb0df4c",
   "metadata": {},
   "source": [
    "In this case, applying SMOTE for over-sampling does not improve the accuracy score of the model \n",
    "(0.7430801987224982 vs. 0.8062455642299503) "
   ]
  },
  {
   "cell_type": "code",
   "execution_count": 64,
   "id": "9e650f18",
   "metadata": {},
   "outputs": [
    {
     "name": "stdout",
     "output_type": "stream",
     "text": [
      "Accuracy: 0.7452093683463449\n"
     ]
    }
   ],
   "source": [
    "# apply random under sampling \n",
    "undersampler = RandomUnderSampler(random_state=42)\n",
    "X_train_resampled, y_train_resampled = undersampler.fit_resample(X_train, y_train)\n",
    "\n",
    "# create a logistic regression model\n",
    "logreg = LogisticRegression()\n",
    "\n",
    "# fit the model on the undersampled data\n",
    "logreg.fit(X_train_resampled, y_train_resampled)\n",
    "\n",
    "# make predictions on the test set\n",
    "y_pred = logreg.predict(X_test)\n",
    "\n",
    "# Calculate model accuracy\n",
    "accuracy = accuracy_score(y_test, y_pred)\n",
    "print(\"Accuracy:\", accuracy)"
   ]
  },
  {
   "cell_type": "markdown",
   "id": "b8479475",
   "metadata": {},
   "source": [
    "5.3. balanced model accuracy assessment "
   ]
  },
  {
   "cell_type": "markdown",
   "id": "0f34c783",
   "metadata": {},
   "source": [
    "In this case, applying under-sampling does not improve the accuracy score of the model \n",
    "(0.7452093683463449 vs. 0.8062455642299503), eventhough is slightly higher compared to over-sampling accuracy score (0.7430801987224982). "
   ]
  },
  {
   "cell_type": "code",
   "execution_count": null,
   "id": "d77c7cf9",
   "metadata": {},
   "outputs": [],
   "source": []
  },
  {
   "cell_type": "code",
   "execution_count": null,
   "id": "50b414d8",
   "metadata": {},
   "outputs": [],
   "source": []
  },
  {
   "cell_type": "code",
   "execution_count": null,
   "id": "d878c1c1",
   "metadata": {},
   "outputs": [],
   "source": []
  }
 ],
 "metadata": {
  "kernelspec": {
   "display_name": "Python 3 (ipykernel)",
   "language": "python",
   "name": "python3"
  },
  "language_info": {
   "codemirror_mode": {
    "name": "ipython",
    "version": 3
   },
   "file_extension": ".py",
   "mimetype": "text/x-python",
   "name": "python",
   "nbconvert_exporter": "python",
   "pygments_lexer": "ipython3",
   "version": "3.9.13"
  }
 },
 "nbformat": 4,
 "nbformat_minor": 5
}
